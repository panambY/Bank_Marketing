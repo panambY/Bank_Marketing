{
 "cells": [
  {
   "cell_type": "markdown",
   "metadata": {},
   "source": [
    "# 0.0 IMPORTS"
   ]
  },
  {
   "cell_type": "code",
   "execution_count": 28,
   "metadata": {
    "ExecuteTime": {
     "end_time": "2020-09-18T03:16:56.442423Z",
     "start_time": "2020-09-18T03:16:56.437079Z"
    }
   },
   "outputs": [],
   "source": [
    "import pandas                                          as pd\n",
    "import matplotlib.pyplot                               as plt\n",
    "import seaborn                                         as sns\n",
    "\n",
    "from IPython.core.display  import HTML\n",
    "from IPython.display       import Image\n",
    "\n",
    "from scipy                 import stats                as ss"
   ]
  },
  {
   "cell_type": "markdown",
   "metadata": {
    "heading_collapsed": true
   },
   "source": [
    "## 0.1 Helper Function"
   ]
  },
  {
   "cell_type": "code",
   "execution_count": 2,
   "metadata": {
    "ExecuteTime": {
     "end_time": "2020-09-18T03:06:20.159985Z",
     "start_time": "2020-09-18T03:06:20.149725Z"
    },
    "hidden": true
   },
   "outputs": [],
   "source": [
    "def jupyter_settings():\n",
    "    %matplotlib inline\n",
    "    %pylab inline\n",
    "    \n",
    "    plt.style.use( 'bmh' )\n",
    "    plt.rcParams['figure.figsize'] = [25, 12]\n",
    "    plt.rcParams['font.size'] = 24\n",
    "    \n",
    "    display( HTML( '<style>.container { width:100% !important; }</style>') )\n",
    "    pd.options.display.max_columns = None\n",
    "    pd.options.display.max_rows = None\n",
    "    pd.set_option( 'display.expand_frame_repr', False )\n",
    "    \n",
    "    sns.set()\n",
    "    \n",
    "def cramer_v( x, y ):\n",
    "    cm = pd.crosstab( x, y ).values\n",
    "    n = cm.sum()\n",
    "    r, k = cm.shape\n",
    "    \n",
    "    chi2 = ss.chi2_contingency( cm )[0]\n",
    "    chi2corr = max( 0, chi2 - (k-1)*(r-1)/(n-1) )\n",
    "    \n",
    "    kcorr = k - (k-1)**2/(n-1)\n",
    "    rcorr = r - (r-1)**2/(n-1)\n",
    "    \n",
    "    return np.sqrt( (chi2corr/n) / ( min( kcorr-1, rcorr-1 ) ) )"
   ]
  },
  {
   "cell_type": "code",
   "execution_count": 3,
   "metadata": {
    "ExecuteTime": {
     "end_time": "2020-09-18T03:06:20.492353Z",
     "start_time": "2020-09-18T03:06:20.161441Z"
    },
    "hidden": true
   },
   "outputs": [
    {
     "name": "stdout",
     "output_type": "stream",
     "text": [
      "Populating the interactive namespace from numpy and matplotlib\n"
     ]
    },
    {
     "data": {
      "text/html": [
       "<style>.container { width:100% !important; }</style>"
      ],
      "text/plain": [
       "<IPython.core.display.HTML object>"
      ]
     },
     "metadata": {},
     "output_type": "display_data"
    }
   ],
   "source": [
    "jupyter_settings()"
   ]
  },
  {
   "cell_type": "markdown",
   "metadata": {
    "heading_collapsed": true
   },
   "source": [
    "## 0.2 Loading Data"
   ]
  },
  {
   "cell_type": "code",
   "execution_count": 4,
   "metadata": {
    "ExecuteTime": {
     "end_time": "2020-09-18T03:06:21.540994Z",
     "start_time": "2020-09-18T03:06:20.498738Z"
    },
    "hidden": true
   },
   "outputs": [
    {
     "data": {
      "text/html": [
       "<div>\n",
       "<style scoped>\n",
       "    .dataframe tbody tr th:only-of-type {\n",
       "        vertical-align: middle;\n",
       "    }\n",
       "\n",
       "    .dataframe tbody tr th {\n",
       "        vertical-align: top;\n",
       "    }\n",
       "\n",
       "    .dataframe thead th {\n",
       "        text-align: right;\n",
       "    }\n",
       "</style>\n",
       "<table border=\"1\" class=\"dataframe\">\n",
       "  <thead>\n",
       "    <tr style=\"text-align: right;\">\n",
       "      <th></th>\n",
       "      <th>age</th>\n",
       "      <th>job</th>\n",
       "      <th>marital</th>\n",
       "      <th>education</th>\n",
       "      <th>default</th>\n",
       "      <th>housing</th>\n",
       "      <th>loan</th>\n",
       "      <th>contact</th>\n",
       "      <th>month</th>\n",
       "      <th>day_of_week</th>\n",
       "      <th>duration</th>\n",
       "      <th>campaign</th>\n",
       "      <th>pdays</th>\n",
       "      <th>previous</th>\n",
       "      <th>poutcome</th>\n",
       "      <th>emp.var.rate</th>\n",
       "      <th>cons.price.idx</th>\n",
       "      <th>cons.conf.idx</th>\n",
       "      <th>euribor3m</th>\n",
       "      <th>nr.employed</th>\n",
       "      <th>y</th>\n",
       "    </tr>\n",
       "  </thead>\n",
       "  <tbody>\n",
       "    <tr>\n",
       "      <th>10426</th>\n",
       "      <td>35</td>\n",
       "      <td>technician</td>\n",
       "      <td>married</td>\n",
       "      <td>university.degree</td>\n",
       "      <td>unknown</td>\n",
       "      <td>no</td>\n",
       "      <td>no</td>\n",
       "      <td>telephone</td>\n",
       "      <td>jun</td>\n",
       "      <td>mon</td>\n",
       "      <td>131</td>\n",
       "      <td>1</td>\n",
       "      <td>999</td>\n",
       "      <td>0</td>\n",
       "      <td>nonexistent</td>\n",
       "      <td>1.4</td>\n",
       "      <td>94.465</td>\n",
       "      <td>-41.8</td>\n",
       "      <td>4.960</td>\n",
       "      <td>5228.1</td>\n",
       "      <td>no</td>\n",
       "    </tr>\n",
       "    <tr>\n",
       "      <th>36436</th>\n",
       "      <td>37</td>\n",
       "      <td>admin.</td>\n",
       "      <td>married</td>\n",
       "      <td>university.degree</td>\n",
       "      <td>no</td>\n",
       "      <td>yes</td>\n",
       "      <td>no</td>\n",
       "      <td>cellular</td>\n",
       "      <td>jun</td>\n",
       "      <td>tue</td>\n",
       "      <td>80</td>\n",
       "      <td>1</td>\n",
       "      <td>999</td>\n",
       "      <td>1</td>\n",
       "      <td>failure</td>\n",
       "      <td>-2.9</td>\n",
       "      <td>92.963</td>\n",
       "      <td>-40.8</td>\n",
       "      <td>1.262</td>\n",
       "      <td>5076.2</td>\n",
       "      <td>no</td>\n",
       "    </tr>\n",
       "    <tr>\n",
       "      <th>36408</th>\n",
       "      <td>26</td>\n",
       "      <td>admin.</td>\n",
       "      <td>married</td>\n",
       "      <td>high.school</td>\n",
       "      <td>no</td>\n",
       "      <td>yes</td>\n",
       "      <td>yes</td>\n",
       "      <td>cellular</td>\n",
       "      <td>jun</td>\n",
       "      <td>tue</td>\n",
       "      <td>142</td>\n",
       "      <td>1</td>\n",
       "      <td>999</td>\n",
       "      <td>0</td>\n",
       "      <td>nonexistent</td>\n",
       "      <td>-2.9</td>\n",
       "      <td>92.963</td>\n",
       "      <td>-40.8</td>\n",
       "      <td>1.262</td>\n",
       "      <td>5076.2</td>\n",
       "      <td>no</td>\n",
       "    </tr>\n",
       "    <tr>\n",
       "      <th>27213</th>\n",
       "      <td>34</td>\n",
       "      <td>admin.</td>\n",
       "      <td>married</td>\n",
       "      <td>university.degree</td>\n",
       "      <td>no</td>\n",
       "      <td>no</td>\n",
       "      <td>no</td>\n",
       "      <td>cellular</td>\n",
       "      <td>nov</td>\n",
       "      <td>fri</td>\n",
       "      <td>128</td>\n",
       "      <td>2</td>\n",
       "      <td>999</td>\n",
       "      <td>0</td>\n",
       "      <td>nonexistent</td>\n",
       "      <td>-0.1</td>\n",
       "      <td>93.200</td>\n",
       "      <td>-42.0</td>\n",
       "      <td>4.021</td>\n",
       "      <td>5195.8</td>\n",
       "      <td>no</td>\n",
       "    </tr>\n",
       "    <tr>\n",
       "      <th>13664</th>\n",
       "      <td>27</td>\n",
       "      <td>admin.</td>\n",
       "      <td>single</td>\n",
       "      <td>university.degree</td>\n",
       "      <td>no</td>\n",
       "      <td>yes</td>\n",
       "      <td>no</td>\n",
       "      <td>cellular</td>\n",
       "      <td>jul</td>\n",
       "      <td>thu</td>\n",
       "      <td>252</td>\n",
       "      <td>1</td>\n",
       "      <td>999</td>\n",
       "      <td>0</td>\n",
       "      <td>nonexistent</td>\n",
       "      <td>1.4</td>\n",
       "      <td>93.918</td>\n",
       "      <td>-42.7</td>\n",
       "      <td>4.963</td>\n",
       "      <td>5228.1</td>\n",
       "      <td>no</td>\n",
       "    </tr>\n",
       "  </tbody>\n",
       "</table>\n",
       "</div>"
      ],
      "text/plain": [
       "       age         job  marital          education  default housing loan    contact month day_of_week  duration  campaign  pdays  previous     poutcome  emp.var.rate  cons.price.idx  cons.conf.idx  euribor3m  nr.employed   y\n",
       "10426   35  technician  married  university.degree  unknown      no   no  telephone   jun         mon       131         1    999         0  nonexistent           1.4          94.465          -41.8      4.960       5228.1  no\n",
       "36436   37      admin.  married  university.degree       no     yes   no   cellular   jun         tue        80         1    999         1      failure          -2.9          92.963          -40.8      1.262       5076.2  no\n",
       "36408   26      admin.  married        high.school       no     yes  yes   cellular   jun         tue       142         1    999         0  nonexistent          -2.9          92.963          -40.8      1.262       5076.2  no\n",
       "27213   34      admin.  married  university.degree       no      no   no   cellular   nov         fri       128         2    999         0  nonexistent          -0.1          93.200          -42.0      4.021       5195.8  no\n",
       "13664   27      admin.   single  university.degree       no     yes   no   cellular   jul         thu       252         1    999         0  nonexistent           1.4          93.918          -42.7      4.963       5228.1  no"
      ]
     },
     "execution_count": 4,
     "metadata": {},
     "output_type": "execute_result"
    }
   ],
   "source": [
    "df_marketing_raw = pd.read_csv('data/bank-full.csv', sep=\";\", low_memory=False)\n",
    "df_marketing_raw.sample(5)"
   ]
  },
  {
   "cell_type": "markdown",
   "metadata": {
    "heading_collapsed": true
   },
   "source": [
    "# 1.0 - DESCRIPTION OF DATA"
   ]
  },
  {
   "cell_type": "code",
   "execution_count": 5,
   "metadata": {
    "ExecuteTime": {
     "end_time": "2020-09-18T03:06:21.550294Z",
     "start_time": "2020-09-18T03:06:21.543258Z"
    },
    "hidden": true
   },
   "outputs": [],
   "source": [
    "df1 = df_marketing_raw.copy()"
   ]
  },
  {
   "cell_type": "markdown",
   "metadata": {
    "heading_collapsed": true,
    "hidden": true
   },
   "source": [
    "## 1.1 Rename Columns"
   ]
  },
  {
   "cell_type": "code",
   "execution_count": 6,
   "metadata": {
    "ExecuteTime": {
     "end_time": "2020-09-18T03:06:21.978073Z",
     "start_time": "2020-09-18T03:06:21.551807Z"
    },
    "hidden": true
   },
   "outputs": [
    {
     "data": {
      "text/plain": [
       "Index(['age', 'job', 'marital', 'education', 'default', 'housing', 'loan',\n",
       "       'contact', 'month', 'day_of_week', 'duration', 'campaign', 'pdays',\n",
       "       'previous', 'poutcome', 'emp.var.rate', 'cons.price.idx',\n",
       "       'cons.conf.idx', 'euribor3m', 'nr.employed', 'y'],\n",
       "      dtype='object')"
      ]
     },
     "execution_count": 6,
     "metadata": {},
     "output_type": "execute_result"
    }
   ],
   "source": [
    "df1.columns"
   ]
  },
  {
   "cell_type": "code",
   "execution_count": 7,
   "metadata": {
    "ExecuteTime": {
     "end_time": "2020-09-18T03:06:22.333768Z",
     "start_time": "2020-09-18T03:06:21.984652Z"
    },
    "hidden": true
   },
   "outputs": [],
   "source": [
    "cols_old = ['age', 'job', 'marital', 'education', 'default', 'housing', 'loan', 'contact', 'month', 'day_of_week', 'duration', 'campaign', 'pdays', 'previous', 'poutcome', 'emp.var.rate', \n",
    "            'cons.price.idx', 'cons.conf.idx', 'euribor3m', 'nr.employed', 'y']\n",
    "\n",
    "cols_new = ['age', 'job', 'marital', 'education', 'default', 'housing', 'loan', 'contact', 'month', 'day_of_week', 'duration', 'campaign', 'passed_days', 'previous', 'previous_outcome', \n",
    "            'employment_var_rate', 'consumer_price_idx', 'consumer_conf_idx', 'euribor_3m', 'nr_employed', 'y']\n",
    "\n",
    "# rename\n",
    "df1.columns = cols_new"
   ]
  },
  {
   "cell_type": "code",
   "execution_count": 8,
   "metadata": {
    "ExecuteTime": {
     "end_time": "2020-09-18T03:06:22.596025Z",
     "start_time": "2020-09-18T03:06:22.346202Z"
    },
    "hidden": true
   },
   "outputs": [
    {
     "data": {
      "text/plain": [
       "Index(['age', 'job', 'marital', 'education', 'default', 'housing', 'loan',\n",
       "       'contact', 'month', 'day_of_week', 'duration', 'campaign',\n",
       "       'passed_days', 'previous', 'previous_outcome', 'employment_var_rate',\n",
       "       'consumer_price_idx', 'consumer_conf_idx', 'euribor_3m', 'nr_employed',\n",
       "       'y'],\n",
       "      dtype='object')"
      ]
     },
     "execution_count": 8,
     "metadata": {},
     "output_type": "execute_result"
    }
   ],
   "source": [
    "df1.columns"
   ]
  },
  {
   "cell_type": "markdown",
   "metadata": {
    "heading_collapsed": true,
    "hidden": true
   },
   "source": [
    "## 1.2 Data Dimensions"
   ]
  },
  {
   "cell_type": "code",
   "execution_count": 9,
   "metadata": {
    "ExecuteTime": {
     "end_time": "2020-09-18T03:06:22.839883Z",
     "start_time": "2020-09-18T03:06:22.604037Z"
    },
    "hidden": true
   },
   "outputs": [
    {
     "name": "stdout",
     "output_type": "stream",
     "text": [
      "Number of Rows: 41188\n",
      "Number of Cols: 21\n"
     ]
    }
   ],
   "source": [
    "print( 'Number of Rows: {}'.format( df1.shape[0] ) )\n",
    "print( 'Number of Cols: {}'.format( df1.shape[1] ) )\n",
    "# Evaluate the possibilite do use this project in your computer"
   ]
  },
  {
   "cell_type": "markdown",
   "metadata": {
    "heading_collapsed": true,
    "hidden": true
   },
   "source": [
    "## 1.3 Data Types"
   ]
  },
  {
   "cell_type": "code",
   "execution_count": 10,
   "metadata": {
    "ExecuteTime": {
     "end_time": "2020-09-18T03:06:23.081666Z",
     "start_time": "2020-09-18T03:06:22.846775Z"
    },
    "hidden": true
   },
   "outputs": [
    {
     "data": {
      "text/plain": [
       "age                      int64\n",
       "job                     object\n",
       "marital                 object\n",
       "education               object\n",
       "default                 object\n",
       "housing                 object\n",
       "loan                    object\n",
       "contact                 object\n",
       "month                   object\n",
       "day_of_week             object\n",
       "duration                 int64\n",
       "campaign                 int64\n",
       "passed_days              int64\n",
       "previous                 int64\n",
       "previous_outcome        object\n",
       "employment_var_rate    float64\n",
       "consumer_price_idx     float64\n",
       "consumer_conf_idx      float64\n",
       "euribor_3m             float64\n",
       "nr_employed            float64\n",
       "y                       object\n",
       "dtype: object"
      ]
     },
     "execution_count": 10,
     "metadata": {},
     "output_type": "execute_result"
    }
   ],
   "source": [
    "df1.dtypes"
   ]
  },
  {
   "cell_type": "markdown",
   "metadata": {
    "heading_collapsed": true,
    "hidden": true
   },
   "source": [
    "## 1.4 Check NA"
   ]
  },
  {
   "cell_type": "code",
   "execution_count": 11,
   "metadata": {
    "ExecuteTime": {
     "end_time": "2020-09-18T03:06:23.538156Z",
     "start_time": "2020-09-18T03:06:23.087347Z"
    },
    "hidden": true
   },
   "outputs": [
    {
     "data": {
      "text/plain": [
       "age                    0\n",
       "job                    0\n",
       "marital                0\n",
       "education              0\n",
       "default                0\n",
       "housing                0\n",
       "loan                   0\n",
       "contact                0\n",
       "month                  0\n",
       "day_of_week            0\n",
       "duration               0\n",
       "campaign               0\n",
       "passed_days            0\n",
       "previous               0\n",
       "previous_outcome       0\n",
       "employment_var_rate    0\n",
       "consumer_price_idx     0\n",
       "consumer_conf_idx      0\n",
       "euribor_3m             0\n",
       "nr_employed            0\n",
       "y                      0\n",
       "dtype: int64"
      ]
     },
     "execution_count": 11,
     "metadata": {},
     "output_type": "execute_result"
    }
   ],
   "source": [
    "df1.isna().sum()"
   ]
  },
  {
   "cell_type": "code",
   "execution_count": 12,
   "metadata": {
    "ExecuteTime": {
     "end_time": "2020-09-18T03:06:23.887376Z",
     "start_time": "2020-09-18T03:06:23.540083Z"
    },
    "hidden": true
   },
   "outputs": [],
   "source": [
    "# There are several missing values in some categorical attributes, all coded with the \"unknown\" label. \n",
    "# These missing values can be treated as a possible class label or using deletion or imputation techniques.\n",
    "\n",
    "# In this first moment I will transform \"unknown\" to NaN\n",
    "df1.replace( {'unknown': np.nan}, inplace=True )"
   ]
  },
  {
   "cell_type": "code",
   "execution_count": 13,
   "metadata": {
    "ExecuteTime": {
     "end_time": "2020-09-18T03:06:24.125685Z",
     "start_time": "2020-09-18T03:06:23.888453Z"
    },
    "hidden": true
   },
   "outputs": [
    {
     "data": {
      "text/plain": [
       "age                       0\n",
       "job                     330\n",
       "marital                  80\n",
       "education              1731\n",
       "default                8597\n",
       "housing                 990\n",
       "loan                    990\n",
       "contact                   0\n",
       "month                     0\n",
       "day_of_week               0\n",
       "duration                  0\n",
       "campaign                  0\n",
       "passed_days               0\n",
       "previous                  0\n",
       "previous_outcome          0\n",
       "employment_var_rate       0\n",
       "consumer_price_idx        0\n",
       "consumer_conf_idx         0\n",
       "euribor_3m                0\n",
       "nr_employed               0\n",
       "y                         0\n",
       "dtype: int64"
      ]
     },
     "execution_count": 13,
     "metadata": {},
     "output_type": "execute_result"
    }
   ],
   "source": [
    "df1.isna().sum()"
   ]
  },
  {
   "cell_type": "markdown",
   "metadata": {
    "heading_collapsed": true,
    "hidden": true
   },
   "source": [
    "## 1.5 Fillout NA"
   ]
  },
  {
   "cell_type": "code",
   "execution_count": 14,
   "metadata": {
    "ExecuteTime": {
     "end_time": "2020-09-18T03:06:24.519046Z",
     "start_time": "2020-09-18T03:06:24.127796Z"
    },
    "hidden": true
   },
   "outputs": [],
   "source": [
    "# As all the NaN values are categorical attributes, is very difficult to fill them and don't influence our dataset.\n",
    "# For this reason I will drop all the NaN values.\n",
    "# In this case is not so bad because we don't have a lot of NaN values.\n",
    "df1.dropna( inplace=True )"
   ]
  },
  {
   "cell_type": "code",
   "execution_count": 15,
   "metadata": {
    "ExecuteTime": {
     "end_time": "2020-09-18T03:06:24.752955Z",
     "start_time": "2020-09-18T03:06:24.524251Z"
    },
    "hidden": true
   },
   "outputs": [
    {
     "data": {
      "text/plain": [
       "age                    0\n",
       "job                    0\n",
       "marital                0\n",
       "education              0\n",
       "default                0\n",
       "housing                0\n",
       "loan                   0\n",
       "contact                0\n",
       "month                  0\n",
       "day_of_week            0\n",
       "duration               0\n",
       "campaign               0\n",
       "passed_days            0\n",
       "previous               0\n",
       "previous_outcome       0\n",
       "employment_var_rate    0\n",
       "consumer_price_idx     0\n",
       "consumer_conf_idx      0\n",
       "euribor_3m             0\n",
       "nr_employed            0\n",
       "y                      0\n",
       "dtype: int64"
      ]
     },
     "execution_count": 15,
     "metadata": {},
     "output_type": "execute_result"
    }
   ],
   "source": [
    "df1.isna().sum()"
   ]
  },
  {
   "cell_type": "code",
   "execution_count": 16,
   "metadata": {
    "ExecuteTime": {
     "end_time": "2020-09-18T03:06:25.480808Z",
     "start_time": "2020-09-18T03:06:24.754809Z"
    },
    "hidden": true
   },
   "outputs": [
    {
     "name": "stdout",
     "output_type": "stream",
     "text": [
      "Number of rows: 30488\n",
      "Number of columns: 21\n"
     ]
    }
   ],
   "source": [
    "print( 'Number of rows: {}'.format( df1.shape[0] ) ) \n",
    "print( 'Number of columns: {}'.format( df1.shape[1] ) )"
   ]
  },
  {
   "cell_type": "markdown",
   "metadata": {
    "heading_collapsed": true,
    "hidden": true
   },
   "source": [
    "## 1.6 Check Unbalanced Data"
   ]
  },
  {
   "cell_type": "code",
   "execution_count": 17,
   "metadata": {
    "ExecuteTime": {
     "end_time": "2020-09-18T03:06:25.749513Z",
     "start_time": "2020-09-18T03:06:25.487021Z"
    },
    "hidden": true
   },
   "outputs": [],
   "source": [
    "df1['id'] = df1.index\n",
    "df1['id'] = df1['id'].apply( lambda x: str(x) )"
   ]
  },
  {
   "cell_type": "code",
   "execution_count": 18,
   "metadata": {
    "ExecuteTime": {
     "end_time": "2020-09-18T03:06:26.066454Z",
     "start_time": "2020-09-18T03:06:25.751341Z"
    },
    "hidden": true
   },
   "outputs": [],
   "source": [
    "df1 = df1[['id', 'age', 'job', 'marital', 'education', 'default', 'housing', 'loan',\n",
    "       'contact', 'month', 'day_of_week', 'duration', 'campaign',\n",
    "       'passed_days', 'previous', 'previous_outcome', 'employment_var_rate',\n",
    "       'consumer_price_idx', 'consumer_conf_idx', 'euribor_3m', 'nr_employed', 'y']]"
   ]
  },
  {
   "cell_type": "code",
   "execution_count": 19,
   "metadata": {
    "ExecuteTime": {
     "end_time": "2020-09-18T03:06:26.392208Z",
     "start_time": "2020-09-18T03:06:26.069795Z"
    },
    "hidden": true
   },
   "outputs": [
    {
     "data": {
      "text/html": [
       "<div>\n",
       "<style scoped>\n",
       "    .dataframe tbody tr th:only-of-type {\n",
       "        vertical-align: middle;\n",
       "    }\n",
       "\n",
       "    .dataframe tbody tr th {\n",
       "        vertical-align: top;\n",
       "    }\n",
       "\n",
       "    .dataframe thead th {\n",
       "        text-align: right;\n",
       "    }\n",
       "</style>\n",
       "<table border=\"1\" class=\"dataframe\">\n",
       "  <thead>\n",
       "    <tr style=\"text-align: right;\">\n",
       "      <th></th>\n",
       "      <th>y</th>\n",
       "      <th>id</th>\n",
       "      <th>perc%</th>\n",
       "    </tr>\n",
       "  </thead>\n",
       "  <tbody>\n",
       "    <tr>\n",
       "      <th>0</th>\n",
       "      <td>yes</td>\n",
       "      <td>3859</td>\n",
       "      <td>12.66</td>\n",
       "    </tr>\n",
       "    <tr>\n",
       "      <th>1</th>\n",
       "      <td>no</td>\n",
       "      <td>26629</td>\n",
       "      <td>87.34</td>\n",
       "    </tr>\n",
       "  </tbody>\n",
       "</table>\n",
       "</div>"
      ],
      "text/plain": [
       "     y     id  perc%\n",
       "0  yes   3859  12.66\n",
       "1   no  26629  87.34"
      ]
     },
     "execution_count": 19,
     "metadata": {},
     "output_type": "execute_result"
    }
   ],
   "source": [
    "df_balanced = df1[['id', 'y']].groupby( 'y' ).count().sort_values( 'id' ).reset_index()\n",
    "df_balanced['perc%'] = 100*np.round( ( df_balanced['id'] / np.sum( df_balanced['id'] ) ), 4 )\n",
    "df_balanced"
   ]
  },
  {
   "cell_type": "markdown",
   "metadata": {
    "heading_collapsed": true,
    "hidden": true
   },
   "source": [
    "## 1.7 Descriptive Analysis"
   ]
  },
  {
   "cell_type": "markdown",
   "metadata": {
    "heading_collapsed": true,
    "hidden": true
   },
   "source": [
    "### 1.7.1 General"
   ]
  },
  {
   "cell_type": "code",
   "execution_count": 20,
   "metadata": {
    "ExecuteTime": {
     "end_time": "2020-09-18T03:06:26.867817Z",
     "start_time": "2020-09-18T03:06:26.393700Z"
    },
    "hidden": true
   },
   "outputs": [],
   "source": [
    "num_attributes = df1.select_dtypes( include=['int64', 'float64'] )\n",
    "cat_attributes = df1.select_dtypes( exclude=['int64', 'float64', 'datetime64[ns]'] )\n",
    "time_attributes = df1.select_dtypes( include=['datetime64[ns]'] )"
   ]
  },
  {
   "cell_type": "markdown",
   "metadata": {
    "heading_collapsed": true,
    "hidden": true
   },
   "source": [
    "#### 1.7.1.1 Numerical"
   ]
  },
  {
   "cell_type": "code",
   "execution_count": 21,
   "metadata": {
    "ExecuteTime": {
     "end_time": "2020-09-18T03:06:27.932281Z",
     "start_time": "2020-09-18T03:06:26.873212Z"
    },
    "hidden": true
   },
   "outputs": [
    {
     "data": {
      "text/html": [
       "<div>\n",
       "<style scoped>\n",
       "    .dataframe tbody tr th:only-of-type {\n",
       "        vertical-align: middle;\n",
       "    }\n",
       "\n",
       "    .dataframe tbody tr th {\n",
       "        vertical-align: top;\n",
       "    }\n",
       "\n",
       "    .dataframe thead th {\n",
       "        text-align: right;\n",
       "    }\n",
       "</style>\n",
       "<table border=\"1\" class=\"dataframe\">\n",
       "  <thead>\n",
       "    <tr style=\"text-align: right;\">\n",
       "      <th></th>\n",
       "      <th>attributes</th>\n",
       "      <th>min</th>\n",
       "      <th>max</th>\n",
       "      <th>range</th>\n",
       "      <th>mean</th>\n",
       "      <th>median</th>\n",
       "      <th>std</th>\n",
       "      <th>skew</th>\n",
       "      <th>kurtosis</th>\n",
       "    </tr>\n",
       "  </thead>\n",
       "  <tbody>\n",
       "    <tr>\n",
       "      <th>0</th>\n",
       "      <td>age</td>\n",
       "      <td>17.000</td>\n",
       "      <td>95.000</td>\n",
       "      <td>78.000</td>\n",
       "      <td>39.030012</td>\n",
       "      <td>37.000</td>\n",
       "      <td>10.333360</td>\n",
       "      <td>0.980210</td>\n",
       "      <td>1.241930</td>\n",
       "    </tr>\n",
       "    <tr>\n",
       "      <th>1</th>\n",
       "      <td>duration</td>\n",
       "      <td>0.000</td>\n",
       "      <td>4918.000</td>\n",
       "      <td>4918.000</td>\n",
       "      <td>259.484092</td>\n",
       "      <td>181.000</td>\n",
       "      <td>261.709970</td>\n",
       "      <td>3.389576</td>\n",
       "      <td>22.260612</td>\n",
       "    </tr>\n",
       "    <tr>\n",
       "      <th>2</th>\n",
       "      <td>campaign</td>\n",
       "      <td>1.000</td>\n",
       "      <td>43.000</td>\n",
       "      <td>42.000</td>\n",
       "      <td>2.521451</td>\n",
       "      <td>2.000</td>\n",
       "      <td>2.720106</td>\n",
       "      <td>4.896935</td>\n",
       "      <td>38.166350</td>\n",
       "    </tr>\n",
       "    <tr>\n",
       "      <th>3</th>\n",
       "      <td>passed_days</td>\n",
       "      <td>0.000</td>\n",
       "      <td>999.000</td>\n",
       "      <td>999.000</td>\n",
       "      <td>956.332295</td>\n",
       "      <td>999.000</td>\n",
       "      <td>201.369989</td>\n",
       "      <td>-4.507905</td>\n",
       "      <td>18.322776</td>\n",
       "    </tr>\n",
       "    <tr>\n",
       "      <th>4</th>\n",
       "      <td>previous</td>\n",
       "      <td>0.000</td>\n",
       "      <td>7.000</td>\n",
       "      <td>7.000</td>\n",
       "      <td>0.194273</td>\n",
       "      <td>0.000</td>\n",
       "      <td>0.522779</td>\n",
       "      <td>3.594607</td>\n",
       "      <td>17.683493</td>\n",
       "    </tr>\n",
       "    <tr>\n",
       "      <th>5</th>\n",
       "      <td>employment_var_rate</td>\n",
       "      <td>-3.400</td>\n",
       "      <td>1.400</td>\n",
       "      <td>4.800</td>\n",
       "      <td>-0.071510</td>\n",
       "      <td>1.100</td>\n",
       "      <td>1.610373</td>\n",
       "      <td>-0.548920</td>\n",
       "      <td>-1.271528</td>\n",
       "    </tr>\n",
       "    <tr>\n",
       "      <th>6</th>\n",
       "      <td>consumer_price_idx</td>\n",
       "      <td>92.201</td>\n",
       "      <td>94.767</td>\n",
       "      <td>2.566</td>\n",
       "      <td>93.523311</td>\n",
       "      <td>93.444</td>\n",
       "      <td>0.585365</td>\n",
       "      <td>-0.118725</td>\n",
       "      <td>-0.863197</td>\n",
       "    </tr>\n",
       "    <tr>\n",
       "      <th>7</th>\n",
       "      <td>consumer_conf_idx</td>\n",
       "      <td>-50.800</td>\n",
       "      <td>-26.900</td>\n",
       "      <td>23.900</td>\n",
       "      <td>-40.602263</td>\n",
       "      <td>-41.800</td>\n",
       "      <td>4.789171</td>\n",
       "      <td>0.373947</td>\n",
       "      <td>-0.323499</td>\n",
       "    </tr>\n",
       "    <tr>\n",
       "      <th>8</th>\n",
       "      <td>euribor_3m</td>\n",
       "      <td>0.634</td>\n",
       "      <td>5.045</td>\n",
       "      <td>4.411</td>\n",
       "      <td>3.459938</td>\n",
       "      <td>4.856</td>\n",
       "      <td>1.777202</td>\n",
       "      <td>-0.525050</td>\n",
       "      <td>-1.632031</td>\n",
       "    </tr>\n",
       "    <tr>\n",
       "      <th>9</th>\n",
       "      <td>nr_employed</td>\n",
       "      <td>4963.600</td>\n",
       "      <td>5228.100</td>\n",
       "      <td>264.500</td>\n",
       "      <td>5160.813409</td>\n",
       "      <td>5191.000</td>\n",
       "      <td>75.156832</td>\n",
       "      <td>-0.893756</td>\n",
       "      <td>-0.351621</td>\n",
       "    </tr>\n",
       "  </tbody>\n",
       "</table>\n",
       "</div>"
      ],
      "text/plain": [
       "            attributes       min       max     range         mean    median         std      skew   kurtosis\n",
       "0                  age    17.000    95.000    78.000    39.030012    37.000   10.333360  0.980210   1.241930\n",
       "1             duration     0.000  4918.000  4918.000   259.484092   181.000  261.709970  3.389576  22.260612\n",
       "2             campaign     1.000    43.000    42.000     2.521451     2.000    2.720106  4.896935  38.166350\n",
       "3          passed_days     0.000   999.000   999.000   956.332295   999.000  201.369989 -4.507905  18.322776\n",
       "4             previous     0.000     7.000     7.000     0.194273     0.000    0.522779  3.594607  17.683493\n",
       "5  employment_var_rate    -3.400     1.400     4.800    -0.071510     1.100    1.610373 -0.548920  -1.271528\n",
       "6   consumer_price_idx    92.201    94.767     2.566    93.523311    93.444    0.585365 -0.118725  -0.863197\n",
       "7    consumer_conf_idx   -50.800   -26.900    23.900   -40.602263   -41.800    4.789171  0.373947  -0.323499\n",
       "8           euribor_3m     0.634     5.045     4.411     3.459938     4.856    1.777202 -0.525050  -1.632031\n",
       "9          nr_employed  4963.600  5228.100   264.500  5160.813409  5191.000   75.156832 -0.893756  -0.351621"
      ]
     },
     "execution_count": 21,
     "metadata": {},
     "output_type": "execute_result"
    }
   ],
   "source": [
    "# Central Tendency\n",
    "ct1 = pd.DataFrame( num_attributes.apply( np.mean ) ).T\n",
    "ct2 = pd.DataFrame( num_attributes.apply( np.median ) ).T\n",
    "\n",
    "# Dispersion\n",
    "d1 = pd.DataFrame( num_attributes.apply( np.std ) ).T\n",
    "d2 = pd.DataFrame( num_attributes.apply( min ) ).T\n",
    "d3 = pd.DataFrame( num_attributes.apply( max ) ).T\n",
    "d4 = pd.DataFrame( num_attributes.apply( lambda x: x.max() - x.min() ) ).T\n",
    "d5 = pd.DataFrame( num_attributes.apply( lambda x: x.skew() ) ).T\n",
    "d6 = pd.DataFrame( num_attributes.apply( lambda x: x.kurtosis() ) ).T\n",
    "\n",
    "# Concatenar\n",
    "ct = pd.concat( [d2, d3, d4, ct1, ct2, d1, d5, d6] ).T.reset_index()\n",
    "ct.columns = ['attributes', 'min', 'max', 'range', 'mean', 'median', 'std', 'skew', 'kurtosis']\n",
    "ct"
   ]
  },
  {
   "cell_type": "markdown",
   "metadata": {
    "heading_collapsed": true,
    "hidden": true
   },
   "source": [
    "#### 1.7.1.2 Categorical"
   ]
  },
  {
   "cell_type": "code",
   "execution_count": 22,
   "metadata": {
    "ExecuteTime": {
     "end_time": "2020-09-18T03:06:28.434540Z",
     "start_time": "2020-09-18T03:06:27.933546Z"
    },
    "hidden": true
   },
   "outputs": [
    {
     "data": {
      "text/html": [
       "<div>\n",
       "<style scoped>\n",
       "    .dataframe tbody tr th:only-of-type {\n",
       "        vertical-align: middle;\n",
       "    }\n",
       "\n",
       "    .dataframe tbody tr th {\n",
       "        vertical-align: top;\n",
       "    }\n",
       "\n",
       "    .dataframe thead th {\n",
       "        text-align: right;\n",
       "    }\n",
       "</style>\n",
       "<table border=\"1\" class=\"dataframe\">\n",
       "  <thead>\n",
       "    <tr style=\"text-align: right;\">\n",
       "      <th></th>\n",
       "      <th>job</th>\n",
       "      <th>marital</th>\n",
       "      <th>education</th>\n",
       "      <th>default</th>\n",
       "      <th>housing</th>\n",
       "      <th>loan</th>\n",
       "      <th>contact</th>\n",
       "      <th>month</th>\n",
       "      <th>day_of_week</th>\n",
       "      <th>previous_outcome</th>\n",
       "      <th>y</th>\n",
       "    </tr>\n",
       "  </thead>\n",
       "  <tbody>\n",
       "    <tr>\n",
       "      <th>count</th>\n",
       "      <td>30488</td>\n",
       "      <td>30488</td>\n",
       "      <td>30488</td>\n",
       "      <td>30488</td>\n",
       "      <td>30488</td>\n",
       "      <td>30488</td>\n",
       "      <td>30488</td>\n",
       "      <td>30488</td>\n",
       "      <td>30488</td>\n",
       "      <td>30488</td>\n",
       "      <td>30488</td>\n",
       "    </tr>\n",
       "    <tr>\n",
       "      <th>unique</th>\n",
       "      <td>11</td>\n",
       "      <td>3</td>\n",
       "      <td>7</td>\n",
       "      <td>2</td>\n",
       "      <td>2</td>\n",
       "      <td>2</td>\n",
       "      <td>2</td>\n",
       "      <td>10</td>\n",
       "      <td>5</td>\n",
       "      <td>3</td>\n",
       "      <td>2</td>\n",
       "    </tr>\n",
       "    <tr>\n",
       "      <th>top</th>\n",
       "      <td>admin.</td>\n",
       "      <td>married</td>\n",
       "      <td>university.degree</td>\n",
       "      <td>no</td>\n",
       "      <td>yes</td>\n",
       "      <td>no</td>\n",
       "      <td>cellular</td>\n",
       "      <td>may</td>\n",
       "      <td>thu</td>\n",
       "      <td>nonexistent</td>\n",
       "      <td>no</td>\n",
       "    </tr>\n",
       "    <tr>\n",
       "      <th>freq</th>\n",
       "      <td>8737</td>\n",
       "      <td>17492</td>\n",
       "      <td>10412</td>\n",
       "      <td>30485</td>\n",
       "      <td>16521</td>\n",
       "      <td>25720</td>\n",
       "      <td>20443</td>\n",
       "      <td>9733</td>\n",
       "      <td>6395</td>\n",
       "      <td>25836</td>\n",
       "      <td>26629</td>\n",
       "    </tr>\n",
       "  </tbody>\n",
       "</table>\n",
       "</div>"
      ],
      "text/plain": [
       "           job  marital          education default housing   loan   contact  month day_of_week previous_outcome      y\n",
       "count    30488    30488              30488   30488   30488  30488     30488  30488       30488            30488  30488\n",
       "unique      11        3                  7       2       2      2         2     10           5                3      2\n",
       "top     admin.  married  university.degree      no     yes     no  cellular    may         thu      nonexistent     no\n",
       "freq      8737    17492              10412   30485   16521  25720     20443   9733        6395            25836  26629"
      ]
     },
     "execution_count": 22,
     "metadata": {},
     "output_type": "execute_result"
    }
   ],
   "source": [
    "cat_attributes.drop( 'id', axis=1 ).describe()"
   ]
  },
  {
   "cell_type": "markdown",
   "metadata": {
    "heading_collapsed": true,
    "hidden": true
   },
   "source": [
    "### 1.7.2 Classes Oriented"
   ]
  },
  {
   "cell_type": "markdown",
   "metadata": {
    "heading_collapsed": true,
    "hidden": true
   },
   "source": [
    "#### 1.7.2.1 Numerical"
   ]
  },
  {
   "cell_type": "code",
   "execution_count": 23,
   "metadata": {
    "ExecuteTime": {
     "end_time": "2020-09-18T03:06:29.233060Z",
     "start_time": "2020-09-18T03:06:28.436452Z"
    },
    "hidden": true
   },
   "outputs": [
    {
     "data": {
      "text/html": [
       "<div>\n",
       "<style scoped>\n",
       "    .dataframe tbody tr th:only-of-type {\n",
       "        vertical-align: middle;\n",
       "    }\n",
       "\n",
       "    .dataframe tbody tr th {\n",
       "        vertical-align: top;\n",
       "    }\n",
       "\n",
       "    .dataframe thead th {\n",
       "        text-align: right;\n",
       "    }\n",
       "</style>\n",
       "<table border=\"1\" class=\"dataframe\">\n",
       "  <thead>\n",
       "    <tr style=\"text-align: right;\">\n",
       "      <th></th>\n",
       "      <th>start_age_min</th>\n",
       "      <th>start_age_max</th>\n",
       "      <th>start_age_mean</th>\n",
       "      <th>start_age_median</th>\n",
       "      <th>start_age_range</th>\n",
       "      <th>start_age_skew</th>\n",
       "      <th>start_age_kurtosis</th>\n",
       "      <th>start_duration_min</th>\n",
       "      <th>start_duration_max</th>\n",
       "      <th>start_duration_mean</th>\n",
       "      <th>start_duration_median</th>\n",
       "      <th>start_duration_range</th>\n",
       "      <th>start_duration_skew</th>\n",
       "      <th>start_duration_kurtosis</th>\n",
       "      <th>end_campaign_min</th>\n",
       "      <th>end_campaign_max</th>\n",
       "      <th>end_campaign_mean</th>\n",
       "      <th>end_campaign_median</th>\n",
       "      <th>end_campaign_range</th>\n",
       "      <th>end_campaign_skew</th>\n",
       "      <th>end_campaign_kurtosis</th>\n",
       "      <th>end_passed_days_min</th>\n",
       "      <th>end_passed_days_max</th>\n",
       "      <th>end_passed_days_mean</th>\n",
       "      <th>end_passed_days_median</th>\n",
       "      <th>end_passed_days_range</th>\n",
       "      <th>end_passed_days_skew</th>\n",
       "      <th>end_passed_days_kurtosis</th>\n",
       "      <th>start_previous_min</th>\n",
       "      <th>start_previous_max</th>\n",
       "      <th>start_previous_mean</th>\n",
       "      <th>start_previous_median</th>\n",
       "      <th>start_previous_range</th>\n",
       "      <th>start_previous_skew</th>\n",
       "      <th>start_previous_kurtosis</th>\n",
       "      <th>start_employment_var_rate_min</th>\n",
       "      <th>start_employment_var_rate_max</th>\n",
       "      <th>start_employment_var_rate_mean</th>\n",
       "      <th>start_employment_var_rate_median</th>\n",
       "      <th>start_employment_var_rate_range</th>\n",
       "      <th>start_employment_var_rate_skew</th>\n",
       "      <th>start_employment_var_rate_kurtosis</th>\n",
       "      <th>end_consumer_price_idx_min</th>\n",
       "      <th>end_consumer_price_idx_max</th>\n",
       "      <th>end_consumer_price_idx_mean</th>\n",
       "      <th>end_consumer_price_idx_median</th>\n",
       "      <th>end_consumer_price_idx_range</th>\n",
       "      <th>end_consumer_price_idx_skew</th>\n",
       "      <th>end_consumer_price_idx_kurtosis</th>\n",
       "      <th>end_euribor_3m_min</th>\n",
       "      <th>end_euribor_3m_max</th>\n",
       "      <th>end_euribor_3m_mean</th>\n",
       "      <th>end_euribor_3m_median</th>\n",
       "      <th>end_euribor_3m_range</th>\n",
       "      <th>end_euribor_3m_skew</th>\n",
       "      <th>end_euribor_3m_kurtosis</th>\n",
       "      <th>end_nr_employed_min</th>\n",
       "      <th>end_nr_employed_max</th>\n",
       "      <th>end_nr_employed_mean</th>\n",
       "      <th>end_nr_employed_median</th>\n",
       "      <th>end_nr_employed_range</th>\n",
       "      <th>end_nr_employed_skew</th>\n",
       "      <th>end_nr_employed_kurtosis</th>\n",
       "    </tr>\n",
       "    <tr>\n",
       "      <th>y</th>\n",
       "      <th></th>\n",
       "      <th></th>\n",
       "      <th></th>\n",
       "      <th></th>\n",
       "      <th></th>\n",
       "      <th></th>\n",
       "      <th></th>\n",
       "      <th></th>\n",
       "      <th></th>\n",
       "      <th></th>\n",
       "      <th></th>\n",
       "      <th></th>\n",
       "      <th></th>\n",
       "      <th></th>\n",
       "      <th></th>\n",
       "      <th></th>\n",
       "      <th></th>\n",
       "      <th></th>\n",
       "      <th></th>\n",
       "      <th></th>\n",
       "      <th></th>\n",
       "      <th></th>\n",
       "      <th></th>\n",
       "      <th></th>\n",
       "      <th></th>\n",
       "      <th></th>\n",
       "      <th></th>\n",
       "      <th></th>\n",
       "      <th></th>\n",
       "      <th></th>\n",
       "      <th></th>\n",
       "      <th></th>\n",
       "      <th></th>\n",
       "      <th></th>\n",
       "      <th></th>\n",
       "      <th></th>\n",
       "      <th></th>\n",
       "      <th></th>\n",
       "      <th></th>\n",
       "      <th></th>\n",
       "      <th></th>\n",
       "      <th></th>\n",
       "      <th></th>\n",
       "      <th></th>\n",
       "      <th></th>\n",
       "      <th></th>\n",
       "      <th></th>\n",
       "      <th></th>\n",
       "      <th></th>\n",
       "      <th></th>\n",
       "      <th></th>\n",
       "      <th></th>\n",
       "      <th></th>\n",
       "      <th></th>\n",
       "      <th></th>\n",
       "      <th></th>\n",
       "      <th></th>\n",
       "      <th></th>\n",
       "      <th></th>\n",
       "      <th></th>\n",
       "      <th></th>\n",
       "      <th></th>\n",
       "      <th></th>\n",
       "    </tr>\n",
       "  </thead>\n",
       "  <tbody>\n",
       "    <tr>\n",
       "      <th>no</th>\n",
       "      <td>17</td>\n",
       "      <td>95</td>\n",
       "      <td>38.838334</td>\n",
       "      <td>37</td>\n",
       "      <td>78</td>\n",
       "      <td>0.869799</td>\n",
       "      <td>0.92533</td>\n",
       "      <td>0</td>\n",
       "      <td>4918</td>\n",
       "      <td>220.277555</td>\n",
       "      <td>163</td>\n",
       "      <td>4918</td>\n",
       "      <td>3.884386</td>\n",
       "      <td>34.989838</td>\n",
       "      <td>1</td>\n",
       "      <td>43</td>\n",
       "      <td>2.593113</td>\n",
       "      <td>2</td>\n",
       "      <td>42</td>\n",
       "      <td>4.797341</td>\n",
       "      <td>36.025855</td>\n",
       "      <td>0</td>\n",
       "      <td>999</td>\n",
       "      <td>981.438282</td>\n",
       "      <td>999</td>\n",
       "      <td>999</td>\n",
       "      <td>-7.318730</td>\n",
       "      <td>51.568578</td>\n",
       "      <td>0</td>\n",
       "      <td>7</td>\n",
       "      <td>0.148898</td>\n",
       "      <td>0</td>\n",
       "      <td>7</td>\n",
       "      <td>3.851553</td>\n",
       "      <td>21.908131</td>\n",
       "      <td>-3.4</td>\n",
       "      <td>1.4</td>\n",
       "      <td>0.115690</td>\n",
       "      <td>1.1</td>\n",
       "      <td>4.8</td>\n",
       "      <td>-0.738415</td>\n",
       "      <td>-1.022082</td>\n",
       "      <td>92.201</td>\n",
       "      <td>94.767</td>\n",
       "      <td>93.552002</td>\n",
       "      <td>93.444</td>\n",
       "      <td>2.566</td>\n",
       "      <td>-0.126480</td>\n",
       "      <td>-0.853581</td>\n",
       "      <td>0.634</td>\n",
       "      <td>5.045</td>\n",
       "      <td>3.673637</td>\n",
       "      <td>4.857</td>\n",
       "      <td>4.411</td>\n",
       "      <td>-0.766824</td>\n",
       "      <td>-1.309653</td>\n",
       "      <td>4963.6</td>\n",
       "      <td>5228.1</td>\n",
       "      <td>5171.234293</td>\n",
       "      <td>5195.8</td>\n",
       "      <td>264.5</td>\n",
       "      <td>-1.075091</td>\n",
       "      <td>0.165674</td>\n",
       "    </tr>\n",
       "    <tr>\n",
       "      <th>yes</th>\n",
       "      <td>18</td>\n",
       "      <td>89</td>\n",
       "      <td>40.352682</td>\n",
       "      <td>36</td>\n",
       "      <td>71</td>\n",
       "      <td>1.052770</td>\n",
       "      <td>0.71028</td>\n",
       "      <td>37</td>\n",
       "      <td>4199</td>\n",
       "      <td>530.028505</td>\n",
       "      <td>415</td>\n",
       "      <td>4162</td>\n",
       "      <td>2.039759</td>\n",
       "      <td>7.847249</td>\n",
       "      <td>1</td>\n",
       "      <td>23</td>\n",
       "      <td>2.026950</td>\n",
       "      <td>2</td>\n",
       "      <td>22</td>\n",
       "      <td>3.475810</td>\n",
       "      <td>21.286626</td>\n",
       "      <td>0</td>\n",
       "      <td>999</td>\n",
       "      <td>783.088624</td>\n",
       "      <td>999</td>\n",
       "      <td>999</td>\n",
       "      <td>-1.370759</td>\n",
       "      <td>-0.120976</td>\n",
       "      <td>0</td>\n",
       "      <td>6</td>\n",
       "      <td>0.507385</td>\n",
       "      <td>0</td>\n",
       "      <td>6</td>\n",
       "      <td>2.057207</td>\n",
       "      <td>4.823439</td>\n",
       "      <td>-3.4</td>\n",
       "      <td>1.4</td>\n",
       "      <td>-1.363281</td>\n",
       "      <td>-1.8</td>\n",
       "      <td>4.8</td>\n",
       "      <td>0.684158</td>\n",
       "      <td>-0.693904</td>\n",
       "      <td>92.201</td>\n",
       "      <td>94.767</td>\n",
       "      <td>93.325331</td>\n",
       "      <td>93.075</td>\n",
       "      <td>2.566</td>\n",
       "      <td>0.195505</td>\n",
       "      <td>-1.021723</td>\n",
       "      <td>0.634</td>\n",
       "      <td>5.045</td>\n",
       "      <td>1.985306</td>\n",
       "      <td>1.262</td>\n",
       "      <td>4.411</td>\n",
       "      <td>1.084408</td>\n",
       "      <td>-0.678349</td>\n",
       "      <td>4963.6</td>\n",
       "      <td>5228.1</td>\n",
       "      <td>5088.904172</td>\n",
       "      <td>5076.2</td>\n",
       "      <td>264.5</td>\n",
       "      <td>0.374252</td>\n",
       "      <td>-1.042887</td>\n",
       "    </tr>\n",
       "  </tbody>\n",
       "</table>\n",
       "</div>"
      ],
      "text/plain": [
       "     start_age_min  start_age_max  start_age_mean  start_age_median  start_age_range  start_age_skew  start_age_kurtosis  start_duration_min  start_duration_max  start_duration_mean  start_duration_median  start_duration_range  start_duration_skew  start_duration_kurtosis  end_campaign_min  end_campaign_max  end_campaign_mean  end_campaign_median  end_campaign_range  end_campaign_skew  end_campaign_kurtosis  end_passed_days_min  end_passed_days_max  end_passed_days_mean  end_passed_days_median  end_passed_days_range  end_passed_days_skew  end_passed_days_kurtosis  start_previous_min  start_previous_max  start_previous_mean  start_previous_median  start_previous_range  start_previous_skew  start_previous_kurtosis  start_employment_var_rate_min  start_employment_var_rate_max  start_employment_var_rate_mean  start_employment_var_rate_median  start_employment_var_rate_range  start_employment_var_rate_skew  start_employment_var_rate_kurtosis  end_consumer_price_idx_min  end_consumer_price_idx_max  end_consumer_price_idx_mean  end_consumer_price_idx_median  end_consumer_price_idx_range  end_consumer_price_idx_skew  end_consumer_price_idx_kurtosis  end_euribor_3m_min  end_euribor_3m_max  end_euribor_3m_mean  end_euribor_3m_median  end_euribor_3m_range  end_euribor_3m_skew  end_euribor_3m_kurtosis  end_nr_employed_min  end_nr_employed_max  end_nr_employed_mean  end_nr_employed_median  end_nr_employed_range  end_nr_employed_skew  end_nr_employed_kurtosis\n",
       "y                                                                                                                                                                                                                                                                                                                                                                                                                                                                                                                                                                                                                                                                                                                                                                                                                                                                                                                                                                                                                                                                                                                                                                                                                                                                                                                                                                                                                                                                                                                            \n",
       "no              17             95       38.838334                37               78        0.869799             0.92533                   0                4918           220.277555                    163                  4918             3.884386                34.989838                 1                43           2.593113                    2                  42           4.797341              36.025855                    0                  999            981.438282                     999                    999             -7.318730                 51.568578                   0                   7             0.148898                      0                     7             3.851553                21.908131                           -3.4                            1.4                        0.115690                               1.1                              4.8                       -0.738415                           -1.022082                      92.201                      94.767                    93.552002                         93.444                         2.566                    -0.126480                        -0.853581               0.634               5.045             3.673637                  4.857                 4.411            -0.766824                -1.309653               4963.6               5228.1           5171.234293                  5195.8                  264.5             -1.075091                  0.165674\n",
       "yes             18             89       40.352682                36               71        1.052770             0.71028                  37                4199           530.028505                    415                  4162             2.039759                 7.847249                 1                23           2.026950                    2                  22           3.475810              21.286626                    0                  999            783.088624                     999                    999             -1.370759                 -0.120976                   0                   6             0.507385                      0                     6             2.057207                 4.823439                           -3.4                            1.4                       -1.363281                              -1.8                              4.8                        0.684158                           -0.693904                      92.201                      94.767                    93.325331                         93.075                         2.566                     0.195505                        -1.021723               0.634               5.045             1.985306                  1.262                 4.411             1.084408                -0.678349               4963.6               5228.1           5088.904172                  5076.2                  264.5              0.374252                 -1.042887"
      ]
     },
     "execution_count": 23,
     "metadata": {},
     "output_type": "execute_result"
    }
   ],
   "source": [
    "aux = df1[['age', 'duration', 'campaign', 'passed_days', 'previous',\n",
    "       'employment_var_rate', 'consumer_price_idx', 'consumer_conf_idx',\n",
    "       'euribor_3m', 'nr_employed']].groupby( df1['y'] ).agg( \n",
    "        start_age_min      = ('age', 'min'), \n",
    "        start_age_max      = ('age', 'max'),\n",
    "        start_age_mean     = ('age', 'mean'),\n",
    "        start_age_median   = ('age', 'median'),\n",
    "        start_age_range    = ('age', lambda x: x.max() - x.min() ),\n",
    "        start_age_skew     = ('age', lambda x: x.skew() ),\n",
    "        start_age_kurtosis = ( 'age', lambda x: x.kurtosis() ),\n",
    "    \n",
    "        start_duration_min    =   ('duration', 'min'), \n",
    "        start_duration_max    =   ('duration', 'max'),\n",
    "        start_duration_mean   =   ('duration', 'mean'),\n",
    "        start_duration_median =   ('duration', 'median'),\n",
    "        start_duration_range  =   ('duration', lambda x: x.max() - x.min() ),\n",
    "        start_duration_skew   =   ('duration', lambda x: x.skew() ),\n",
    "        start_duration_kurtosis = ( 'duration', lambda x: x.kurtosis() ),\n",
    "    \n",
    "        end_campaign_min    =   ('campaign', 'min'), \n",
    "        end_campaign_max    =   ('campaign', 'max'),\n",
    "        end_campaign_mean   =   ('campaign', 'mean'),\n",
    "        end_campaign_median =   ('campaign', 'median'),\n",
    "        end_campaign_range  =   ('campaign', lambda x: x.max() - x.min() ),\n",
    "        end_campaign_skew   =   ('campaign', lambda x: x.skew() ),\n",
    "        end_campaign_kurtosis = ( 'campaign', lambda x: x.kurtosis() ),\n",
    "    \n",
    "        end_passed_days_min    =   ('passed_days', 'min'), \n",
    "        end_passed_days_max    =   ('passed_days', 'max'),\n",
    "        end_passed_days_mean   =   ('passed_days', 'mean'),\n",
    "        end_passed_days_median =   ('passed_days', 'median'),\n",
    "        end_passed_days_range  =   ('passed_days', lambda x: x.max() - x.min() ),\n",
    "        end_passed_days_skew   =   ('passed_days', lambda x: x.skew() ),\n",
    "        end_passed_days_kurtosis = ( 'passed_days', lambda x: x.kurtosis() ),\n",
    "\n",
    "        start_previous_min      = ('previous', 'min'), \n",
    "        start_previous_max      = ('previous', 'max'),\n",
    "        start_previous_mean     = ('previous', 'mean'),\n",
    "        start_previous_median   = ('previous', 'median'),\n",
    "        start_previous_range    = ('previous', lambda x: x.max() - x.min() ),\n",
    "        start_previous_skew     = ('previous', lambda x: x.skew() ),\n",
    "        start_previous_kurtosis = ( 'previous', lambda x: x.kurtosis() ),\n",
    "    \n",
    "        start_employment_var_rate_min    =   ('employment_var_rate', 'min'), \n",
    "        start_employment_var_rate_max    =   ('employment_var_rate', 'max'),\n",
    "        start_employment_var_rate_mean   =   ('employment_var_rate', 'mean'),\n",
    "        start_employment_var_rate_median =   ('employment_var_rate', 'median'),\n",
    "        start_employment_var_rate_range  =   ('employment_var_rate', lambda x: x.max() - x.min() ),\n",
    "        start_employment_var_rate_skew   =   ('employment_var_rate', lambda x: x.skew() ),\n",
    "        start_employment_var_rate_kurtosis = ( 'employment_var_rate', lambda x: x.kurtosis() ),\n",
    "    \n",
    "        end_consumer_price_idx_min    =   ('consumer_price_idx', 'min'), \n",
    "        end_consumer_price_idx_max    =   ('consumer_price_idx', 'max'),\n",
    "        end_consumer_price_idx_mean   =   ('consumer_price_idx', 'mean'),\n",
    "        end_consumer_price_idx_median =   ('consumer_price_idx', 'median'),\n",
    "        end_consumer_price_idx_range  =   ('consumer_price_idx', lambda x: x.max() - x.min() ),\n",
    "        end_consumer_price_idx_skew   =   ('consumer_price_idx', lambda x: x.skew() ),\n",
    "        end_consumer_price_idx_kurtosis = ( 'consumer_price_idx', lambda x: x.kurtosis() ),\n",
    "    \n",
    "        end_euribor_3m_min    =   ('euribor_3m', 'min'), \n",
    "        end_euribor_3m_max    =   ('euribor_3m', 'max'),\n",
    "        end_euribor_3m_mean   =   ('euribor_3m', 'mean'),\n",
    "        end_euribor_3m_median =   ('euribor_3m', 'median'),\n",
    "        end_euribor_3m_range  =   ('euribor_3m', lambda x: x.max() - x.min() ),\n",
    "        end_euribor_3m_skew   =   ('euribor_3m', lambda x: x.skew() ),\n",
    "        end_euribor_3m_kurtosis = ( 'euribor_3m', lambda x: x.kurtosis() ),\n",
    "\n",
    "        end_nr_employed_min    =   ('nr_employed', 'min'), \n",
    "        end_nr_employed_max    =   ('nr_employed', 'max'),\n",
    "        end_nr_employed_mean   =   ('nr_employed', 'mean'),\n",
    "        end_nr_employed_median =   ('nr_employed', 'median'),\n",
    "        end_nr_employed_range  =   ('nr_employed', lambda x: x.max() - x.min() ),\n",
    "        end_nr_employed_skew   =   ('nr_employed', lambda x: x.skew() ),\n",
    "        end_nr_employed_kurtosis = ( 'nr_employed', lambda x: x.kurtosis() ))\n",
    "\n",
    "# show table\n",
    "aux"
   ]
  },
  {
   "cell_type": "markdown",
   "metadata": {
    "ExecuteTime": {
     "end_time": "2020-09-10T04:21:59.695353Z",
     "start_time": "2020-09-10T04:21:59.682323Z"
    },
    "hidden": true
   },
   "source": [
    "#### 1.7.2.2 Categorical"
   ]
  },
  {
   "cell_type": "code",
   "execution_count": 24,
   "metadata": {
    "ExecuteTime": {
     "end_time": "2020-09-18T03:06:29.334372Z",
     "start_time": "2020-09-18T03:06:29.234318Z"
    },
    "hidden": true
   },
   "outputs": [
    {
     "data": {
      "text/html": [
       "<div>\n",
       "<style scoped>\n",
       "    .dataframe tbody tr th:only-of-type {\n",
       "        vertical-align: middle;\n",
       "    }\n",
       "\n",
       "    .dataframe tbody tr th {\n",
       "        vertical-align: top;\n",
       "    }\n",
       "\n",
       "    .dataframe thead tr th {\n",
       "        text-align: left;\n",
       "    }\n",
       "\n",
       "    .dataframe thead tr:last-of-type th {\n",
       "        text-align: right;\n",
       "    }\n",
       "</style>\n",
       "<table border=\"1\" class=\"dataframe\">\n",
       "  <thead>\n",
       "    <tr>\n",
       "      <th></th>\n",
       "      <th colspan=\"4\" halign=\"left\">job</th>\n",
       "      <th colspan=\"4\" halign=\"left\">marital</th>\n",
       "      <th colspan=\"4\" halign=\"left\">education</th>\n",
       "      <th colspan=\"4\" halign=\"left\">default</th>\n",
       "      <th colspan=\"4\" halign=\"left\">housing</th>\n",
       "      <th colspan=\"4\" halign=\"left\">loan</th>\n",
       "      <th colspan=\"4\" halign=\"left\">contact</th>\n",
       "      <th colspan=\"4\" halign=\"left\">month</th>\n",
       "      <th colspan=\"4\" halign=\"left\">day_of_week</th>\n",
       "      <th colspan=\"4\" halign=\"left\">previous_outcome</th>\n",
       "    </tr>\n",
       "    <tr>\n",
       "      <th></th>\n",
       "      <th>count</th>\n",
       "      <th>unique</th>\n",
       "      <th>top</th>\n",
       "      <th>freq</th>\n",
       "      <th>count</th>\n",
       "      <th>unique</th>\n",
       "      <th>top</th>\n",
       "      <th>freq</th>\n",
       "      <th>count</th>\n",
       "      <th>unique</th>\n",
       "      <th>top</th>\n",
       "      <th>freq</th>\n",
       "      <th>count</th>\n",
       "      <th>unique</th>\n",
       "      <th>top</th>\n",
       "      <th>freq</th>\n",
       "      <th>count</th>\n",
       "      <th>unique</th>\n",
       "      <th>top</th>\n",
       "      <th>freq</th>\n",
       "      <th>count</th>\n",
       "      <th>unique</th>\n",
       "      <th>top</th>\n",
       "      <th>freq</th>\n",
       "      <th>count</th>\n",
       "      <th>unique</th>\n",
       "      <th>top</th>\n",
       "      <th>freq</th>\n",
       "      <th>count</th>\n",
       "      <th>unique</th>\n",
       "      <th>top</th>\n",
       "      <th>freq</th>\n",
       "      <th>count</th>\n",
       "      <th>unique</th>\n",
       "      <th>top</th>\n",
       "      <th>freq</th>\n",
       "      <th>count</th>\n",
       "      <th>unique</th>\n",
       "      <th>top</th>\n",
       "      <th>freq</th>\n",
       "    </tr>\n",
       "    <tr>\n",
       "      <th>y</th>\n",
       "      <th></th>\n",
       "      <th></th>\n",
       "      <th></th>\n",
       "      <th></th>\n",
       "      <th></th>\n",
       "      <th></th>\n",
       "      <th></th>\n",
       "      <th></th>\n",
       "      <th></th>\n",
       "      <th></th>\n",
       "      <th></th>\n",
       "      <th></th>\n",
       "      <th></th>\n",
       "      <th></th>\n",
       "      <th></th>\n",
       "      <th></th>\n",
       "      <th></th>\n",
       "      <th></th>\n",
       "      <th></th>\n",
       "      <th></th>\n",
       "      <th></th>\n",
       "      <th></th>\n",
       "      <th></th>\n",
       "      <th></th>\n",
       "      <th></th>\n",
       "      <th></th>\n",
       "      <th></th>\n",
       "      <th></th>\n",
       "      <th></th>\n",
       "      <th></th>\n",
       "      <th></th>\n",
       "      <th></th>\n",
       "      <th></th>\n",
       "      <th></th>\n",
       "      <th></th>\n",
       "      <th></th>\n",
       "      <th></th>\n",
       "      <th></th>\n",
       "      <th></th>\n",
       "      <th></th>\n",
       "    </tr>\n",
       "  </thead>\n",
       "  <tbody>\n",
       "    <tr>\n",
       "      <th>no</th>\n",
       "      <td>26629</td>\n",
       "      <td>11</td>\n",
       "      <td>admin.</td>\n",
       "      <td>7521</td>\n",
       "      <td>26629</td>\n",
       "      <td>3</td>\n",
       "      <td>married</td>\n",
       "      <td>15436</td>\n",
       "      <td>26629</td>\n",
       "      <td>7</td>\n",
       "      <td>university.degree</td>\n",
       "      <td>8870</td>\n",
       "      <td>26629</td>\n",
       "      <td>2</td>\n",
       "      <td>no</td>\n",
       "      <td>26626</td>\n",
       "      <td>26629</td>\n",
       "      <td>2</td>\n",
       "      <td>yes</td>\n",
       "      <td>14379</td>\n",
       "      <td>26629</td>\n",
       "      <td>2</td>\n",
       "      <td>no</td>\n",
       "      <td>22446</td>\n",
       "      <td>26629</td>\n",
       "      <td>2</td>\n",
       "      <td>cellular</td>\n",
       "      <td>17170</td>\n",
       "      <td>26629</td>\n",
       "      <td>10</td>\n",
       "      <td>may</td>\n",
       "      <td>9033</td>\n",
       "      <td>26629</td>\n",
       "      <td>5</td>\n",
       "      <td>mon</td>\n",
       "      <td>5573</td>\n",
       "      <td>26629</td>\n",
       "      <td>3</td>\n",
       "      <td>nonexistent</td>\n",
       "      <td>23264</td>\n",
       "    </tr>\n",
       "    <tr>\n",
       "      <th>yes</th>\n",
       "      <td>3859</td>\n",
       "      <td>11</td>\n",
       "      <td>admin.</td>\n",
       "      <td>1216</td>\n",
       "      <td>3859</td>\n",
       "      <td>3</td>\n",
       "      <td>married</td>\n",
       "      <td>2056</td>\n",
       "      <td>3859</td>\n",
       "      <td>7</td>\n",
       "      <td>university.degree</td>\n",
       "      <td>1542</td>\n",
       "      <td>3859</td>\n",
       "      <td>1</td>\n",
       "      <td>no</td>\n",
       "      <td>3859</td>\n",
       "      <td>3859</td>\n",
       "      <td>2</td>\n",
       "      <td>yes</td>\n",
       "      <td>2142</td>\n",
       "      <td>3859</td>\n",
       "      <td>2</td>\n",
       "      <td>no</td>\n",
       "      <td>3274</td>\n",
       "      <td>3859</td>\n",
       "      <td>2</td>\n",
       "      <td>cellular</td>\n",
       "      <td>3273</td>\n",
       "      <td>3859</td>\n",
       "      <td>10</td>\n",
       "      <td>may</td>\n",
       "      <td>700</td>\n",
       "      <td>3859</td>\n",
       "      <td>5</td>\n",
       "      <td>thu</td>\n",
       "      <td>879</td>\n",
       "      <td>3859</td>\n",
       "      <td>3</td>\n",
       "      <td>nonexistent</td>\n",
       "      <td>2572</td>\n",
       "    </tr>\n",
       "  </tbody>\n",
       "</table>\n",
       "</div>"
      ],
      "text/plain": [
       "       job                      marital                        education                                 default                   housing                      loan                   contact                          month                   day_of_week                   previous_outcome                           \n",
       "     count unique     top  freq   count unique      top   freq     count unique                top  freq   count unique top   freq   count unique  top   freq  count unique top   freq   count unique       top   freq  count unique  top  freq       count unique  top  freq            count unique          top   freq\n",
       "y                                                                                                                                                                                                                                                                                                                        \n",
       "no   26629     11  admin.  7521   26629      3  married  15436     26629      7  university.degree  8870   26629      2  no  26626   26629      2  yes  14379  26629      2  no  22446   26629      2  cellular  17170  26629     10  may  9033       26629      5  mon  5573            26629      3  nonexistent  23264\n",
       "yes   3859     11  admin.  1216    3859      3  married   2056      3859      7  university.degree  1542    3859      1  no   3859    3859      2  yes   2142   3859      2  no   3274    3859      2  cellular   3273   3859     10  may   700        3859      5  thu   879             3859      3  nonexistent   2572"
      ]
     },
     "execution_count": 24,
     "metadata": {},
     "output_type": "execute_result"
    }
   ],
   "source": [
    "cat_attributes.drop( 'id', axis=1 ).groupby( 'y' ).describe()"
   ]
  },
  {
   "cell_type": "markdown",
   "metadata": {
    "heading_collapsed": true,
    "hidden": true
   },
   "source": [
    "### 1.7.3 Predictors and Class Correlation"
   ]
  },
  {
   "cell_type": "code",
   "execution_count": 25,
   "metadata": {
    "ExecuteTime": {
     "end_time": "2020-09-18T03:06:31.621592Z",
     "start_time": "2020-09-18T03:06:29.335373Z"
    },
    "hidden": true
   },
   "outputs": [
    {
     "data": {
      "text/plain": [
       "<AxesSubplot:>"
      ]
     },
     "execution_count": 25,
     "metadata": {},
     "output_type": "execute_result"
    },
    {
     "data": {
      "image/png": "[encoded data removed]",
      "text/plain": [
       "<Figure size 1800x864 with 2 Axes>"
      ]
     },
     "metadata": {},
     "output_type": "display_data"
    }
   ],
   "source": [
    "# list of categorical attributes\n",
    "cat_attributes_list = cat_attributes.drop( 'id', axis=1 ).columns.tolist()\n",
    "\n",
    "corr_dict = {}\n",
    "for i in range( len( cat_attributes_list ) ):\n",
    "    corr_list = []\n",
    "    for j in range( len( cat_attributes_list ) ):\n",
    "        #print( 'Ref: {} - Feat: {}'.format( cat_attributes_list[i], cat_attributes_list[j] ) )\n",
    "        ref = cat_attributes_list[i]\n",
    "        feat = cat_attributes_list[j]\n",
    "        \n",
    "        # correlation between two categorical variables\n",
    "        corr = cramer_v( cat_attributes[ ref ], cat_attributes[ feat ] )\n",
    "        \n",
    "        # append to a list\n",
    "        corr_list.append( corr )\n",
    "        \n",
    "    # append the correlation list for each ref attributes\n",
    "    corr_dict[ref] = corr_list\n",
    "\n",
    "d = pd.DataFrame( corr_dict )\n",
    "d = d.set_index( d.columns )\n",
    "sns.heatmap( d, annot=True )"
   ]
  },
  {
   "cell_type": "markdown",
   "metadata": {},
   "source": [
    "# 2.0 - FEATURE ENGINEERING"
   ]
  },
  {
   "cell_type": "code",
   "execution_count": 26,
   "metadata": {
    "ExecuteTime": {
     "end_time": "2020-09-18T03:06:31.626103Z",
     "start_time": "2020-09-18T03:06:31.622679Z"
    }
   },
   "outputs": [],
   "source": [
    "df2 = df1.copy()"
   ]
  },
  {
   "cell_type": "code",
   "execution_count": 29,
   "metadata": {
    "ExecuteTime": {
     "end_time": "2020-09-18T03:17:07.130770Z",
     "start_time": "2020-09-18T03:17:07.122414Z"
    },
    "scrolled": false
   },
   "outputs": [
    {
     "data": {
      "image/png": "[encoded data removed]",
      "text/plain": [
       "<IPython.core.display.Image object>"
      ]
     },
     "execution_count": 29,
     "metadata": {},
     "output_type": "execute_result"
    }
   ],
   "source": [
    "Image( \"image/Hyphoteses_Map.png\" )"
   ]
  },
  {
   "cell_type": "markdown",
   "metadata": {},
   "source": [
    "## 2.1 Creation of Hyphoteses"
   ]
  },
  {
   "cell_type": "markdown",
   "metadata": {
    "heading_collapsed": true
   },
   "source": [
    "### 2.1.1 Person Hyphoteses"
   ]
  },
  {
   "cell_type": "markdown",
   "metadata": {
    "hidden": true
   },
   "source": [
    "**1.** personal loan\n",
    "\n",
    "**2.** credit in default\n",
    "\n",
    "**3.** marital status\n",
    "\n",
    "**4.** age\n",
    "\n",
    "**5.** job\n",
    "\n",
    "**6.** education\n",
    "\n",
    "**7.** housing loan\n",
    "\n",
    "**8.** gender"
   ]
  },
  {
   "cell_type": "markdown",
   "metadata": {
    "heading_collapsed": true
   },
   "source": [
    "### 2.1.2 Communication Hyphoteses"
   ]
  },
  {
   "cell_type": "markdown",
   "metadata": {
    "hidden": true
   },
   "source": [
    "**1.** number contacts\n",
    "\n",
    "**2.** outcome previous marketing\n",
    "\n",
    "**3.** type\n",
    "\n",
    "**4.** duration\n",
    "\n",
    "**5.** attempts"
   ]
  },
  {
   "cell_type": "markdown",
   "metadata": {
    "heading_collapsed": true
   },
   "source": [
    "### 2.1.3 Time Hyphoteses"
   ]
  },
  {
   "cell_type": "markdown",
   "metadata": {
    "hidden": true
   },
   "source": [
    "**1.** week\n",
    "\n",
    "**2.** day\n",
    "\n",
    "**3.** number of contacts before campaign\n",
    "\n",
    "**4.** days after last contact\n",
    "\n",
    "**5.** month\n",
    "\n",
    "**6.** day of week\n",
    "\n",
    "**7.** number of contacts\n",
    "\n",
    "**8.** holidays\n",
    "\n",
    "**9.** year"
   ]
  },
  {
   "cell_type": "markdown",
   "metadata": {},
   "source": [
    "### 2.1.4 Social - Economic Hyphoteses"
   ]
  },
  {
   "cell_type": "markdown",
   "metadata": {},
   "source": [
    "**1.** number of employees\n",
    "\n",
    "**2.** consumer confidence\n",
    "\n",
    "**3.** employment variation\n",
    "\n",
    "**4.** consumer price\n",
    "\n",
    "**5.** euribor3\n",
    "\n",
    "**6.** social class"
   ]
  },
  {
   "cell_type": "markdown",
   "metadata": {},
   "source": [
    "## 2.2 Final List of Hyphoteses"
   ]
  },
  {
   "cell_type": "code",
   "execution_count": null,
   "metadata": {},
   "outputs": [],
   "source": []
  }
 ],
 "metadata": {
  "kernelspec": {
   "display_name": "Python 3",
   "language": "python",
   "name": "python3"
  },
  "language_info": {
   "codemirror_mode": {
    "name": "ipython",
    "version": 3
   },
   "file_extension": ".py",
   "mimetype": "text/x-python",
   "name": "python",
   "nbconvert_exporter": "python",
   "pygments_lexer": "ipython3",
   "version": "3.8.0"
  }
 },
 "nbformat": 4,
 "nbformat_minor": 4
}
